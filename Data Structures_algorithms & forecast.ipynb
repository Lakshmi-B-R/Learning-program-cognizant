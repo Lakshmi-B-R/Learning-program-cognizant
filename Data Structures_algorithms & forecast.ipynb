{
 "cells": [
  {
   "cell_type": "code",
   "execution_count": 10,
   "id": "5e51e730-089f-400b-a999-db6c62dbf471",
   "metadata": {},
   "outputs": [
    {
     "name": "stdin",
     "output_type": "stream",
     "text": [
      "Enter product to search:  laptop\n"
     ]
    },
    {
     "name": "stdout",
     "output_type": "stream",
     "text": [
      "Search results: ['Laptop']\n"
     ]
    }
   ],
   "source": [
    "products = [\"Laptop\", \"Phone\", \"Tablet\", \"Monitor\", \"Camera\"]\n",
    "\n",
    "def search_product(query):\n",
    "    result = [p for p in products if query.lower() in p.lower()]\n",
    "    return result\n",
    "\n",
    "if __name__ == \"__main__\":\n",
    "    query = input(\"Enter product to search: \")\n",
    "    results = search_product(query)\n",
    "    if results:\n",
    "        print(\"Search results:\", results)\n",
    "    else:\n",
    "        print(\"No products found.\")"
   ]
  },
  {
   "cell_type": "code",
   "execution_count": 12,
   "id": "e8b0c08a-4de6-472a-a574-1be7160c4977",
   "metadata": {},
   "outputs": [
    {
     "name": "stdin",
     "output_type": "stream",
     "text": [
      "Enter historical data separated by commas (e.g., 100,105,110):  100,55,89,145,101\n",
      "Enter window size for moving average:  3\n"
     ]
    },
    {
     "name": "stdout",
     "output_type": "stream",
     "text": [
      "Moving Averages: [81.33333333333333, 96.33333333333333, 111.66666666666667]\n"
     ]
    }
   ],
   "source": [
    "def moving_average(data, window_size):\n",
    "    return [sum(data[i:i+window_size]) / window_size for i in range(len(data) - window_size + 1)]\n",
    "\n",
    "if __name__ == \"__main__\":\n",
    "    raw_input = input(\"Enter historical data separated by commas (e.g., 100,105,110): \")\n",
    "    data = [float(x.strip()) for x in raw_input.split(\",\")]\n",
    "    window_size = int(input(\"Enter window size for moving average: \"))\n",
    "    \n",
    "    averages = moving_average(data, window_size)\n",
    "    print(\"Moving Averages:\", averages)"
   ]
  },
  {
   "cell_type": "code",
   "execution_count": null,
   "id": "c5c8c3b3-33b0-4bd6-aa74-a26d0d6faefc",
   "metadata": {},
   "outputs": [],
   "source": []
  }
 ],
 "metadata": {
  "kernelspec": {
   "display_name": "Python 3 (ipykernel)",
   "language": "python",
   "name": "python3"
  },
  "language_info": {
   "codemirror_mode": {
    "name": "ipython",
    "version": 3
   },
   "file_extension": ".py",
   "mimetype": "text/x-python",
   "name": "python",
   "nbconvert_exporter": "python",
   "pygments_lexer": "ipython3",
   "version": "3.12.7"
  }
 },
 "nbformat": 4,
 "nbformat_minor": 5
}
